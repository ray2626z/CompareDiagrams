{
 "cells": [
  {
   "cell_type": "code",
   "execution_count": 26,
   "outputs": [],
   "source": [
    "with open(\"f1.txt\") as f1, open(\"f2.txt\") as f2:\n",
    "    f1_lines = f1.readlines()\n",
    "    f2_lines = f2.readlines()"
   ],
   "metadata": {
    "collapsed": false
   }
  },
  {
   "cell_type": "code",
   "execution_count": 27,
   "outputs": [
    {
     "name": "stdout",
     "output_type": "stream",
     "text": [
      "--- f1.txt\n",
      "\n",
      "+++ f2.txt\n",
      "\n",
      "@@ -1 +1,3 @@\n",
      "\n",
      "-1\n",
      "+1\n",
      "\n",
      "+2\n",
      "\n",
      "+3\n"
     ]
    }
   ],
   "source": [
    "from difflib import unified_diff\n",
    "import re\n",
    "\n",
    "for line in unified_diff(a=f1_lines, b=f2_lines, fromfile=\"f1.txt\", tofile=\"f2.txt\", lineterm='\\n'):\n",
    "    # if re.match('\\- *', line):\n",
    "        print(line)"
   ],
   "metadata": {
    "collapsed": false
   }
  },
  {
   "cell_type": "code",
   "execution_count": 28,
   "outputs": [
    {
     "name": "stdout",
     "output_type": "stream",
     "text": [
      "*** f1.txt\n",
      "\n",
      "--- f2.txt\n",
      "\n",
      "***************\n",
      "\n",
      "*** 1 ****\n",
      "\n",
      "! 1\n",
      "--- 1,3 ----\n",
      "\n",
      "! 1\n",
      "\n",
      "! 2\n",
      "\n",
      "! 3\n"
     ]
    }
   ],
   "source": [
    "from difflib import context_diff\n",
    "delta = context_diff(a=f1_lines, b=f2_lines, fromfile=\"f1.txt\", tofile='f2.txt')\n",
    "for line in delta:\n",
    "    # if re.match(\"\\- *\", line):\n",
    "        print(line)"
   ],
   "metadata": {
    "collapsed": false
   }
  },
  {
   "cell_type": "code",
   "execution_count": 29,
   "outputs": [
    {
     "name": "stdout",
     "output_type": "stream",
     "text": [
      "- 1\n",
      "+ 1\n",
      "\n",
      "+ 2\n",
      "\n",
      "+ 3\n"
     ]
    }
   ],
   "source": [
    "import difflib as d\n",
    "\n",
    "differ = d.Differ()\n",
    "delta = differ.compare(f1_lines,f2_lines)\n",
    "for line in delta:\n",
    "    # if re.match('\\- *', line):\n",
    "        print(line)"
   ],
   "metadata": {
    "collapsed": false
   }
  },
  {
   "cell_type": "code",
   "execution_count": 29,
   "outputs": [],
   "source": [],
   "metadata": {
    "collapsed": false
   }
  }
 ],
 "metadata": {
  "kernelspec": {
   "display_name": "Python 3",
   "language": "python",
   "name": "python3"
  },
  "language_info": {
   "codemirror_mode": {
    "name": "ipython",
    "version": 2
   },
   "file_extension": ".py",
   "mimetype": "text/x-python",
   "name": "python",
   "nbconvert_exporter": "python",
   "pygments_lexer": "ipython2",
   "version": "2.7.6"
  }
 },
 "nbformat": 4,
 "nbformat_minor": 0
}
